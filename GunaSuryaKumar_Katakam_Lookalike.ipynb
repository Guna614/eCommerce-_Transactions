{
 "cells": [
  {
   "cell_type": "markdown",
   "id": "8057b61a",
   "metadata": {},
   "source": [
    "Task 2: Lookalike Model "
   ]
  },
  {
   "cell_type": "markdown",
   "id": "cf82f8b7",
   "metadata": {},
   "source": [
    "Steps to Build the Lookalike Model\n",
    "\n",
    "1.Preprocessing and Feature Engineering\n",
    "\n",
    "Combine customer profile data (Customers.csv) with their transaction and product data.\n",
    "\n",
    "Create meaningful features (e.g., total spending, product category preferences, purchase frequency).\n",
    "\n",
    "2.Calculate Similarity\n",
    "\n",
    "Use a similarity measure (e.g., cosine similarity) to compute the closeness between customer profiles.\n",
    "\n",
    "3.Find Top 3 Lookalikes\n",
    "\n",
    "For each customer, rank all other customers by similarity and select the top 3 with their scores.\n",
    "\n",
    "4.Save Output to Lookalike.csv\n",
    "\n",
    "Create a mapping of customer IDs to their top 3 lookalikes and scores."
   ]
  },
  {
   "cell_type": "code",
   "execution_count": 15,
   "id": "268cb0b7",
   "metadata": {},
   "outputs": [],
   "source": [
    "# Import necessary libraries\n",
    "import numpy as np\n",
    "import pandas as pd\n",
    "from sklearn.metrics.pairwise import cosine_similarity\n",
    "from sklearn.preprocessing import StandardScaler"
   ]
  },
  {
   "cell_type": "code",
   "execution_count": 16,
   "id": "0faaa24e",
   "metadata": {},
   "outputs": [],
   "source": [
    "# Load datasets\n",
    "customers = pd.read_csv(\"Customers.csv\")\n",
    "products = pd.read_csv(\"Products.csv\")\n",
    "transactions = pd.read_csv(\"Transactions.csv\")"
   ]
  },
  {
   "cell_type": "code",
   "execution_count": 3,
   "id": "79030991",
   "metadata": {},
   "outputs": [],
   "source": [
    "# Merge datasets for feature engineering\n",
    "merged_data = transactions.merge(customers, on=\"CustomerID\", how=\"left\")\n",
    "merged_data = merged_data.merge(products, on=\"ProductID\", how=\"left\")"
   ]
  },
  {
   "cell_type": "code",
   "execution_count": 4,
   "id": "cc11d7aa",
   "metadata": {},
   "outputs": [],
   "source": [
    "# Feature Engineering: Create aggregated customer-level features\n",
    "customer_features = merged_data.groupby('CustomerID').agg(\n",
    "    total_spending=('TotalValue', 'sum'),\n",
    "    total_transactions=('TransactionID', 'count'),\n",
    "    avg_transaction_value=('TotalValue', 'mean'),\n",
    "    product_categories=('Category', lambda x: x.nunique()),  # Number of unique categories purchased\n",
    ").reset_index()\n"
   ]
  },
  {
   "cell_type": "markdown",
   "id": "b06c281c",
   "metadata": {},
   "source": [
    "Verify Customers.csv Structure\n",
    "\n",
    "Before merging, inspect the customers DataFrame to confirm it contains the Region column and ensure there are no data loading issues:"
   ]
  },
  {
   "cell_type": "code",
   "execution_count": 5,
   "id": "887f1438",
   "metadata": {},
   "outputs": [
    {
     "name": "stdout",
     "output_type": "stream",
     "text": [
      "  CustomerID        CustomerName         Region  SignupDate\n",
      "0      C0001    Lawrence Carroll  South America  2022-07-10\n",
      "1      C0002      Elizabeth Lutz           Asia  2022-02-13\n",
      "2      C0003      Michael Rivera  South America  2024-03-07\n",
      "3      C0004  Kathleen Rodriguez  South America  2022-10-09\n",
      "4      C0005         Laura Weber           Asia  2022-08-15\n",
      "Index(['CustomerID', 'CustomerName', 'Region', 'SignupDate'], dtype='object')\n"
     ]
    }
   ],
   "source": [
    "print(customers.head())  # Display the first few rows of Customers.csv\n",
    "print(customers.columns)  # Verify column names in Customers.csv"
   ]
  },
  {
   "cell_type": "code",
   "execution_count": 6,
   "id": "6f737a22",
   "metadata": {},
   "outputs": [],
   "source": [
    "# Strip leading/trailing whitespace from column names\n",
    "customers.columns = customers.columns.str.strip()\n",
    "customer_features.columns = customer_features.columns.str.strip()"
   ]
  },
  {
   "cell_type": "code",
   "execution_count": 7,
   "id": "b9c2c150",
   "metadata": {},
   "outputs": [
    {
     "name": "stdout",
     "output_type": "stream",
     "text": [
      "0    C0001\n",
      "1    C0002\n",
      "2    C0003\n",
      "3    C0004\n",
      "4    C0005\n",
      "Name: CustomerID, dtype: object\n",
      "0    C0001\n",
      "1    C0002\n",
      "2    C0003\n",
      "3    C0004\n",
      "4    C0005\n",
      "Name: CustomerID, dtype: object\n"
     ]
    }
   ],
   "source": [
    "# Check for inconsistencies in CustomerID format\n",
    "print(customer_features['CustomerID'].head())  # Sample from customer_features\n",
    "print(customers['CustomerID'].head())         # Sample from customers"
   ]
  },
  {
   "cell_type": "code",
   "execution_count": 8,
   "id": "9f0eca14",
   "metadata": {},
   "outputs": [],
   "source": [
    "# Ensure CustomerID is the same type (string)\n",
    "customer_features['CustomerID'] = customer_features['CustomerID'].astype(str)\n",
    "customers['CustomerID'] = customers['CustomerID'].astype(str)"
   ]
  },
  {
   "cell_type": "code",
   "execution_count": 9,
   "id": "c6c70004",
   "metadata": {},
   "outputs": [],
   "source": [
    "# Merge customer_features with Region data\n",
    "customer_features = customer_features.merge(customers[['CustomerID', 'Region']], on='CustomerID', how='left')"
   ]
  },
  {
   "cell_type": "markdown",
   "id": "7190550c",
   "metadata": {},
   "source": [
    "Verify Customers.csv Structure\n",
    "\n",
    "Before merging, inspect the customers DataFrame to confirm it contains the Region column and ensure there are no data loading issues:"
   ]
  },
  {
   "cell_type": "code",
   "execution_count": 10,
   "id": "ac7e6ee5",
   "metadata": {},
   "outputs": [
    {
     "name": "stdout",
     "output_type": "stream",
     "text": [
      "  CustomerID  total_spending  total_transactions  avg_transaction_value  \\\n",
      "0      C0001         3354.52                   5                670.904   \n",
      "1      C0002         1862.74                   4                465.685   \n",
      "2      C0003         2725.38                   4                681.345   \n",
      "3      C0004         5354.88                   8                669.360   \n",
      "4      C0005         2034.24                   3                678.080   \n",
      "\n",
      "   product_categories         Region  \n",
      "0                   3  South America  \n",
      "1                   2           Asia  \n",
      "2                   3  South America  \n",
      "3                   3  South America  \n",
      "4                   2           Asia  \n",
      "Index(['CustomerID', 'total_spending', 'total_transactions',\n",
      "       'avg_transaction_value', 'product_categories', 'Region'],\n",
      "      dtype='object')\n"
     ]
    }
   ],
   "source": [
    "print(customer_features.head())  # Display first few rows\n",
    "print(customer_features.columns)  # Ensure 'Region' exists\n"
   ]
  },
  {
   "cell_type": "code",
   "execution_count": 11,
   "id": "ec71c97a",
   "metadata": {},
   "outputs": [
    {
     "name": "stdout",
     "output_type": "stream",
     "text": [
      "One-hot encoding completed successfully.\n"
     ]
    }
   ],
   "source": [
    "if 'Region' in customer_features.columns:\n",
    "    customer_features = pd.get_dummies(customer_features, columns=['Region'])\n",
    "    print(\"One-hot encoding completed successfully.\")\n",
    "else:\n",
    "    print(\"Error: 'Region' column still not found after merge.\")\n"
   ]
  },
  {
   "cell_type": "code",
   "execution_count": 12,
   "id": "30159bd9",
   "metadata": {},
   "outputs": [
    {
     "name": "stdout",
     "output_type": "stream",
     "text": [
      "['total_spending', 'total_transactions', 'avg_transaction_value', 'product_categories']\n"
     ]
    }
   ],
   "source": [
    "# Standardize numerical features\n",
    "scaler = StandardScaler()\n",
    "numerical_features = ['total_spending', 'total_transactions', 'avg_transaction_value', 'product_categories']\n",
    "customer_features[numerical_features] = scaler.fit_transform(customer_features[numerical_features])\n",
    "print(numerical_features)"
   ]
  },
  {
   "cell_type": "code",
   "execution_count": 18,
   "id": "d0f669e7",
   "metadata": {},
   "outputs": [],
   "source": [
    "# Calculate cosine similarity\n",
    "feature_matrix = customer_features.drop(columns=['CustomerID'])\n",
    "similarity_matrix = cosine_similarity(feature_matrix)"
   ]
  },
  {
   "cell_type": "code",
   "execution_count": 19,
   "id": "cc82ccc6",
   "metadata": {},
   "outputs": [
    {
     "name": "stdout",
     "output_type": "stream",
     "text": [
      "total_spending           float64\n",
      "total_transactions       float64\n",
      "avg_transaction_value    float64\n",
      "product_categories       float64\n",
      "Region_Asia                 bool\n",
      "Region_Europe               bool\n",
      "Region_North America        bool\n",
      "Region_South America        bool\n",
      "dtype: object\n",
      "   total_spending  total_transactions  avg_transaction_value  \\\n",
      "0       -0.061701           -0.011458              -0.070263   \n",
      "1       -0.877744           -0.467494              -0.934933   \n",
      "2       -0.405857           -0.467494              -0.026271   \n",
      "3        1.032547            1.356650              -0.076769   \n",
      "4       -0.783929           -0.923530              -0.040028   \n",
      "\n",
      "   product_categories  Region_Asia  Region_Europe  Region_North America  \\\n",
      "0            0.160540        False          False                 False   \n",
      "1           -0.904377         True          False                 False   \n",
      "2            0.160540        False          False                 False   \n",
      "3            0.160540        False          False                 False   \n",
      "4           -0.904377         True          False                 False   \n",
      "\n",
      "   Region_South America  \n",
      "0                  True  \n",
      "1                 False  \n",
      "2                  True  \n",
      "3                  True  \n",
      "4                 False  \n"
     ]
    }
   ],
   "source": [
    "# Calculate cosine similarity //we got a error tring to solve it so this is solution part and the cosine similarity\n",
    "print(feature_matrix.dtypes)\n",
    "print(feature_matrix.head())\n"
   ]
  },
  {
   "cell_type": "code",
   "execution_count": 20,
   "id": "3cb3b4c2",
   "metadata": {},
   "outputs": [
    {
     "name": "stdout",
     "output_type": "stream",
     "text": [
      "Feature matrix after ensuring numeric data:\n",
      "   total_spending  total_transactions  avg_transaction_value  \\\n",
      "0       -0.061701           -0.011458              -0.070263   \n",
      "1       -0.877744           -0.467494              -0.934933   \n",
      "2       -0.405857           -0.467494              -0.026271   \n",
      "3        1.032547            1.356650              -0.076769   \n",
      "4       -0.783929           -0.923530              -0.040028   \n",
      "\n",
      "   product_categories  \n",
      "0            0.160540  \n",
      "1           -0.904377  \n",
      "2            0.160540  \n",
      "3            0.160540  \n",
      "4           -0.904377  \n"
     ]
    }
   ],
   "source": [
    "# Ensure all columns are numeric \n",
    "feature_matrix = feature_matrix.select_dtypes(include=[np.number])\n",
    "print(\"Feature matrix after ensuring numeric data:\")\n",
    "print(feature_matrix.head())\n"
   ]
  },
  {
   "cell_type": "code",
   "execution_count": 21,
   "id": "9c4d32ff",
   "metadata": {},
   "outputs": [
    {
     "name": "stdout",
     "output_type": "stream",
     "text": [
      "Cosine similarity calculation successful.\n"
     ]
    }
   ],
   "source": [
    "#cosine similiraty calculation \n",
    "similarity_matrix = cosine_similarity(feature_matrix)\n",
    "print(\"Cosine similarity calculation successful.\")"
   ]
  },
  {
   "cell_type": "code",
   "execution_count": 22,
   "id": "acd4ba16",
   "metadata": {},
   "outputs": [],
   "source": [
    "# Create Lookalike Mapping for Customers C0001 to C0020\n",
    "lookalike_map = {}\n",
    "for idx, customer_id in enumerate(customer_features['CustomerID'][:20]):  # First 20 customers\n",
    "    \n",
    "        # Get similarity scores for this customer\n",
    "    scores = list(enumerate(similarity_matrix[idx]))\n",
    "    \n",
    "    # Exclude self (similarity with itself)\n",
    "    scores = [(i, score) for i, score in scores if i != idx]\n",
    "    \n",
    "    # Sort scores in descending order and get top 3\n",
    "    top_3 = sorted(scores, key=lambda x: x[1], reverse=True)[:3]\n",
    "    \n",
    "    # Map customer ID to top 3 lookalike customers and their scores\n",
    "    lookalike_map[customer_id] = [\n",
    "        (customer_features['CustomerID'].iloc[i], round(score, 4)) for i, score in top_3\n",
    "    ]"
   ]
  },
  {
   "cell_type": "code",
   "execution_count": 23,
   "id": "79891c2b",
   "metadata": {},
   "outputs": [],
   "source": [
    "# Save Lookalike Map to CSV\n",
    "lookalike_df = pd.DataFrame({\n",
    "    'CustomerID': list(lookalike_map.keys()),\n",
    "    'Lookalikes': [str(lookalike_map[customer]) for customer in lookalike_map.keys()]\n",
    "})\n",
    "lookalike_df.to_csv(\"Lookalike.csv\", index=False)"
   ]
  },
  {
   "cell_type": "code",
   "execution_count": 24,
   "id": "77e9f169",
   "metadata": {},
   "outputs": [
    {
     "name": "stdout",
     "output_type": "stream",
     "text": [
      "Lookalike Map for Customers C0001 to C0020:\n",
      "   CustomerID                                         Lookalikes\n",
      "0       C0001  [('C0086', 0.9966), ('C0189', 0.9948), ('C0055...\n",
      "1       C0002  [('C0199', 0.9982), ('C0010', 0.998), ('C0033'...\n",
      "2       C0003  [('C0178', 0.9996), ('C0036', 0.9786), ('C0035...\n",
      "3       C0004  [('C0101', 0.9971), ('C0156', 0.9964), ('C0108...\n",
      "4       C0005  [('C0073', 0.9997), ('C0159', 0.9993), ('C0112...\n",
      "5       C0006  [('C0079', 1.0), ('C0196', 0.992), ('C0158', 0...\n",
      "6       C0007  [('C0080', 0.9929), ('C0078', 0.9917), ('C0042...\n",
      "7       C0008  [('C0109', 0.9709), ('C0147', 0.9419), ('C0093...\n",
      "8       C0009  [('C0077', 0.9998), ('C0083', 0.9969), ('C0060...\n",
      "9       C0010  [('C0002', 0.998), ('C0199', 0.9924), ('C0009'...\n",
      "10      C0011  [('C0114', 0.9984), ('C0183', 0.9906), ('C0016...\n",
      "11      C0012  [('C0155', 0.9978), ('C0065', 0.9935), ('C0165...\n",
      "12      C0013  [('C0126', 0.9926), ('C0105', 0.9919), ('C0087...\n",
      "13      C0014  [('C0058', 0.9964), ('C0151', 0.9957), ('C0128...\n",
      "14      C0015  [('C0095', 0.992), ('C0144', 0.9891), ('C0186'...\n",
      "15      C0016  [('C0183', 0.9998), ('C0064', 0.9955), ('C0114...\n",
      "16      C0017  [('C0162', 0.9998), ('C0113', 0.9998), ('C0093...\n",
      "17      C0018  [('C0187', 0.9999), ('C0148', 0.9992), ('C0138...\n",
      "18      C0019  [('C0134', 0.9112), ('C0038', 0.9075), ('C0069...\n",
      "19      C0020  [('C0110', 0.9997), ('C0042', 0.9979), ('C0176...\n"
     ]
    }
   ],
   "source": [
    "# Display the Lookalike Map for reference\n",
    "print(\"Lookalike Map for Customers C0001 to C0020:\")\n",
    "print(lookalike_df)"
   ]
  },
  {
   "cell_type": "code",
   "execution_count": null,
   "id": "493e687e",
   "metadata": {},
   "outputs": [],
   "source": [
    "#Completed Task 2: Lookalike Model"
   ]
  },
  {
   "cell_type": "markdown",
   "id": "e7aed11b",
   "metadata": {},
   "source": [
    "Now, let’s proceed to check the output in Lookalike.csv to verify if the lookalike mappings and scores are correct.\n",
    "\n",
    "Steps:\n",
    "    \n",
    "Load the Lookalike.csv file and display its content."
   ]
  },
  {
   "cell_type": "code",
   "execution_count": 27,
   "id": "a4ad51d8",
   "metadata": {},
   "outputs": [
    {
     "name": "stdout",
     "output_type": "stream",
     "text": [
      "   CustomerID                                         Lookalikes\n",
      "0       C0001  [('C0086', 0.9966), ('C0189', 0.9948), ('C0055...\n",
      "1       C0002  [('C0199', 0.9982), ('C0010', 0.998), ('C0033'...\n",
      "2       C0003  [('C0178', 0.9996), ('C0036', 0.9786), ('C0035...\n",
      "3       C0004  [('C0101', 0.9971), ('C0156', 0.9964), ('C0108...\n",
      "4       C0005  [('C0073', 0.9997), ('C0159', 0.9993), ('C0112...\n",
      "5       C0006  [('C0079', 1.0), ('C0196', 0.992), ('C0158', 0...\n",
      "6       C0007  [('C0080', 0.9929), ('C0078', 0.9917), ('C0042...\n",
      "7       C0008  [('C0109', 0.9709), ('C0147', 0.9419), ('C0093...\n",
      "8       C0009  [('C0077', 0.9998), ('C0083', 0.9969), ('C0060...\n",
      "9       C0010  [('C0002', 0.998), ('C0199', 0.9924), ('C0009'...\n",
      "10      C0011  [('C0114', 0.9984), ('C0183', 0.9906), ('C0016...\n",
      "11      C0012  [('C0155', 0.9978), ('C0065', 0.9935), ('C0165...\n",
      "12      C0013  [('C0126', 0.9926), ('C0105', 0.9919), ('C0087...\n",
      "13      C0014  [('C0058', 0.9964), ('C0151', 0.9957), ('C0128...\n",
      "14      C0015  [('C0095', 0.992), ('C0144', 0.9891), ('C0186'...\n",
      "15      C0016  [('C0183', 0.9998), ('C0064', 0.9955), ('C0114...\n",
      "16      C0017  [('C0162', 0.9998), ('C0113', 0.9998), ('C0093...\n",
      "17      C0018  [('C0187', 0.9999), ('C0148', 0.9992), ('C0138...\n",
      "18      C0019  [('C0134', 0.9112), ('C0038', 0.9075), ('C0069...\n",
      "19      C0020  [('C0110', 0.9997), ('C0042', 0.9979), ('C0176...\n"
     ]
    }
   ],
   "source": [
    "lookalike_output = pd.read_csv(\"Lookalike.csv\")\n",
    "print(lookalike_output.head(20))  # Displaying top 20(0-19) entries for verification to verify those are correctly aligned"
   ]
  },
  {
   "cell_type": "code",
   "execution_count": 29,
   "id": "da52f085",
   "metadata": {},
   "outputs": [
    {
     "name": "stdout",
     "output_type": "stream",
     "text": [
      "Top 20 rows saved to Lookalike_Top20.csv!\n"
     ]
    }
   ],
   "source": [
    "#For assignment submission\n",
    "# Saved the top 20 rows to a new CSV file\n",
    "lookalike_top20 = lookalike_output.head(20)\n",
    "lookalike_top20.to_csv(\"Lookalike_Top20.csv\", index=False)\n",
    "print(\"Top 20 rows saved to Lookalike_Top20.csv!\")\n"
   ]
  },
  {
   "cell_type": "code",
   "execution_count": null,
   "id": "abdad3b4",
   "metadata": {},
   "outputs": [],
   "source": []
  }
 ],
 "metadata": {
  "kernelspec": {
   "display_name": "Python 3 (ipykernel)",
   "language": "python",
   "name": "python3"
  },
  "language_info": {
   "codemirror_mode": {
    "name": "ipython",
    "version": 3
   },
   "file_extension": ".py",
   "mimetype": "text/x-python",
   "name": "python",
   "nbconvert_exporter": "python",
   "pygments_lexer": "ipython3",
   "version": "3.11.7"
  }
 },
 "nbformat": 4,
 "nbformat_minor": 5
}
